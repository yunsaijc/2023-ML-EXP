{
 "cells": [
  {
   "cell_type": "markdown",
   "metadata": {},
   "source": [
    "# 微积分"
   ]
  },
  {
   "cell_type": "markdown",
   "metadata": {},
   "source": [
    "## 导数/ 微分/ 偏导数\n",
    "略"
   ]
  },
  {
   "cell_type": "markdown",
   "metadata": {},
   "source": [
    "## 梯度"
   ]
  },
  {
   "cell_type": "markdown",
   "metadata": {},
   "source": [
    "梯度(gradient) 指一个多元函数对其所有变量的偏导数. 设函数$f: \\mathbb{R}^n\\rightarrow \\mathbb{R}$, 其输入为一个n维向量$x = (x_1, x_2, \\dots, x_n)^T$, 输出为一个标量, 那么函数$f$相对于$x$的梯度就是: \n",
    "\n",
    "$$\\nabla f(x)\\=[\\frac{\\partial f(x)}{\\partial x_1},\\frac{\\partial f(x)}{\\partial x_2},\\dots,\\frac{\\partial f(x)}{\\partial x_n}]^T$$"
   ]
  },
  {
   "cell_type": "markdown",
   "metadata": {},
   "source": [
    "## 链式法则\n",
    "略"
   ]
  }
 ],
 "metadata": {
  "language_info": {
   "name": "python"
  }
 },
 "nbformat": 4,
 "nbformat_minor": 2
}
