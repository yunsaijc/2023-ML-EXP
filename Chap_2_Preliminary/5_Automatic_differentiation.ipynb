{
 "cells": [
  {
   "cell_type": "markdown",
   "metadata": {},
   "source": [
    "# 自动微分"
   ]
  },
  {
   "cell_type": "markdown",
   "metadata": {},
   "source": [
    "利用框架的反向传播, 可以自动进行微分运算\n",
    "\n",
    "> 根据设计好的模型, 系统会构建一个计算图(computational graph), 来跟踪计算是哪些数据通过哪些操作组合起来产生输出. 自动微分使系统能够随后反向传播梯度"
   ]
  },
  {
   "cell_type": "code",
   "execution_count": 6,
   "metadata": {},
   "outputs": [
    {
     "name": "stdout",
     "output_type": "stream",
     "text": [
      "x:  tensor([0., 1., 2., 3.], requires_grad=True)\n",
      "Gradient of x:  None\n"
     ]
    }
   ],
   "source": [
    "import torch\n",
    "\n",
    "x = torch.arange(4.0, requires_grad=True)\n",
    "print(\"x: \", x)\n",
    "print(\"Gradient of x: \", x.grad)"
   ]
  },
  {
   "cell_type": "markdown",
   "metadata": {},
   "source": [
    "`requires_grad=True` 指的是需要计算梯度, 为True则会分配内存来存储梯度. 只会分配一次内存, 后续多次求导时只是更新这个内存, 不会重新分配内存\n",
    "\n",
    "注意, 一个标量函数关于向量`x`的梯度是一个与`x`形状相同的向量"
   ]
  },
  {
   "cell_type": "code",
   "execution_count": 7,
   "metadata": {},
   "outputs": [
    {
     "name": "stdout",
     "output_type": "stream",
     "text": [
      "y tensor(28., grad_fn=<MulBackward0>)\n",
      "\n",
      "Gradient of x:  tensor([ 0.,  4.,  8., 12.])\n",
      "x.grad == 4 * x: \n",
      " tensor([True, True, True, True])\n"
     ]
    }
   ],
   "source": [
    "# y = 2 * x^T * x\n",
    "y = 2 * torch.dot(x, x)\n",
    "print(\"y\", y, end=\"\\n\\n\")\n",
    "\n",
    "# x.grad should be 4 * x\n",
    "y.backward()\n",
    "print(\"Gradient of x: \", x.grad)\n",
    "print(\"x.grad == 4 * x: \\n\", x.grad == 4 * x)\n",
    "x.grad.zero_()  # Clear the gradient"
   ]
  },
  {
   "cell_type": "markdown",
   "metadata": {},
   "source": [
    "此时我们可以重新理解一下\"反向传播\"这个词的含义. \n",
    "\n",
    "可以发现，是先计算y的值, 然后再由计算图得知y的值是如何根据x而改变的，最后计算y关于x的梯度.\n",
    " \n",
    "也就是说, 是先正向传播, 然后再反向传播"
   ]
  }
 ],
 "metadata": {
  "kernelspec": {
   "display_name": "llm",
   "language": "python",
   "name": "python3"
  },
  "language_info": {
   "codemirror_mode": {
    "name": "ipython",
    "version": 3
   },
   "file_extension": ".py",
   "mimetype": "text/x-python",
   "name": "python",
   "nbconvert_exporter": "python",
   "pygments_lexer": "ipython3",
   "version": "3.9.18"
  }
 },
 "nbformat": 4,
 "nbformat_minor": 2
}
