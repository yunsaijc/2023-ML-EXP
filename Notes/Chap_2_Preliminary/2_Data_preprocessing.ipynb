{
 "cells": [
  {
   "cell_type": "markdown",
   "metadata": {},
   "source": [
    "# 数据预处理"
   ]
  },
  {
   "cell_type": "markdown",
   "metadata": {},
   "source": [
    "## 读取数据\n",
    "手工创建一个csv数据集, 并进行读取"
   ]
  },
  {
   "cell_type": "code",
   "execution_count": 2,
   "metadata": {},
   "outputs": [
    {
     "name": "stdout",
     "output_type": "stream",
     "text": [
      "Successfully created file: ../data/Chap2/2.2/house_tiny.csv\n"
     ]
    }
   ],
   "source": [
    "import os\n",
    "\n",
    "os.makedirs(os.path.join('..', 'data/Chap2/2.2'), exist_ok=True)\n",
    "data_file = os.path.join('..', 'data/Chap2/2.2', 'house_tiny.csv')\n",
    "with open(data_file, 'w') as f:\n",
    "    f.write('NumRooms,Alley,Price\\n')  # 首行指定列名\n",
    "    f.write('NA,Pave,127500\\n')  # 每行代表一个样本\n",
    "    f.write('2,NA,106000\\n')\n",
    "    f.write('4,NA,178100\\n')\n",
    "    f.write('NA,NA,140000\\n')\n",
    "print(\"Successfully created file: \" + data_file)"
   ]
  },
  {
   "cell_type": "markdown",
   "metadata": {},
   "source": [
    "通过上段代码创建了一个房价数据集, 每一列分别代表房间数量/ 街道类型/ 房屋价格\n",
    "\n",
    "下面使用pandas对其进行读取"
   ]
  },
  {
   "cell_type": "code",
   "execution_count": 3,
   "metadata": {},
   "outputs": [
    {
     "name": "stdout",
     "output_type": "stream",
     "text": [
      "Data: \n",
      "    NumRooms Alley   Price\n",
      "0       NaN  Pave  127500\n",
      "1       2.0   NaN  106000\n",
      "2       4.0   NaN  178100\n",
      "3       NaN   NaN  140000\n"
     ]
    }
   ],
   "source": [
    "import pandas as pd\n",
    "data = pd.read_csv(data_file)\n",
    "print(\"Data: \\n\", data)\n",
    "\n",
    "# 注意，上面创建data_file时用NA表示缺失值, 且源文件中显示的确实是NA,\n",
    "# 而此处用NaN表示缺失值, 与源文件不同, 可能是pandas进行了转换"
   ]
  },
  {
   "cell_type": "markdown",
   "metadata": {},
   "source": [
    "## 处理缺失值\n",
    "\n",
    "常见的处理缺失值方法包括:\n",
    "1. 插值法: 用一个值代替缺失值\n",
    "2. 忽略法: 直接忽略缺失值\n",
    "\n",
    "此处使用插值法"
   ]
  },
  {
   "cell_type": "code",
   "execution_count": 12,
   "metadata": {},
   "outputs": [
    {
     "name": "stdout",
     "output_type": "stream",
     "text": [
      "Inputs: \n",
      "    NumRooms Alley\n",
      "0       NaN  Pave\n",
      "1       2.0   NaN\n",
      "2       4.0   NaN\n",
      "3       NaN   NaN\n",
      "\n",
      "Outputs: \n",
      " 0    127500\n",
      "1    106000\n",
      "2    178100\n",
      "3    140000\n",
      "Name: Price, dtype: int64\n",
      "\n"
     ]
    }
   ],
   "source": [
    "inputs = data.iloc[:, :2]   # 前2列\n",
    "outputs = data.iloc[:, 2]   # 第3列\n",
    "print(\"Inputs: \\n\", inputs, end='\\n\\n')\n",
    "print(\"Outputs: \\n\", outputs, end='\\n\\n')"
   ]
  },
  {
   "cell_type": "code",
   "execution_count": 13,
   "metadata": {},
   "outputs": [
    {
     "name": "stdout",
     "output_type": "stream",
     "text": [
      "Fill with mean: \n",
      "    NumRooms Alley\n",
      "0       3.0  Pave\n",
      "1       2.0   NaN\n",
      "2       4.0   NaN\n",
      "3       3.0   NaN\n",
      "\n"
     ]
    },
    {
     "name": "stderr",
     "output_type": "stream",
     "text": [
      "/tmp/ipykernel_3982996/369478748.py:2: FutureWarning: The default value of numeric_only in DataFrame.mean is deprecated. In a future version, it will default to False. In addition, specifying 'numeric_only=None' is deprecated. Select only valid columns or specify the value of numeric_only to silence this warning.\n",
      "  inputs = inputs.fillna(inputs.mean())\n"
     ]
    }
   ],
   "source": [
    "# 用均值来填充缺失值\n",
    "inputs = inputs.fillna(inputs.mean())\n",
    "print(\"Fill with mean: \\n\", inputs, end='\\n\\n')"
   ]
  },
  {
   "cell_type": "markdown",
   "metadata": {},
   "source": [
    "可以发现第二列Alley不是数字, 所以考虑除了均值填充之外的方法\n",
    "\n",
    "由于Alley列只接受两种类型的值: Pave 和 NaN, pandas可以自动将此列转换为两列 Alley_Pave 和 Alley_nan\n",
    "\n",
    "那么对于Alley列的值为Pave的行，Alley_Pave=1; 反之同理"
   ]
  },
  {
   "cell_type": "code",
   "execution_count": 14,
   "metadata": {},
   "outputs": [
    {
     "name": "stdout",
     "output_type": "stream",
     "text": [
      "One-Hot Encoding: \n",
      "    NumRooms  Alley_Pave  Alley_nan\n",
      "0       3.0           1          0\n",
      "1       2.0           0          1\n",
      "2       4.0           0          1\n",
      "3       3.0           0          1\n",
      "\n"
     ]
    }
   ],
   "source": [
    "# get_dummies将非数值的列转换为数值\n",
    "# 原理(One-Hot Encoding): \n",
    "# 为每个类创建一个新的列, 用0或1表示是否属于该类\n",
    "inputs = pd.get_dummies(inputs, dummy_na=True)\n",
    "print(\"One-Hot Encoding: \\n\", inputs, end='\\n\\n')"
   ]
  },
  {
   "cell_type": "markdown",
   "metadata": {},
   "source": [
    "## 转换为张量"
   ]
  },
  {
   "cell_type": "code",
   "execution_count": 15,
   "metadata": {},
   "outputs": [
    {
     "name": "stdout",
     "output_type": "stream",
     "text": [
      "X: \n",
      " tensor([[3., 1., 0.],\n",
      "        [2., 0., 1.],\n",
      "        [4., 0., 1.],\n",
      "        [3., 0., 1.]], dtype=torch.float64)\n",
      "\n",
      "y: \n",
      " tensor([127500., 106000., 178100., 140000.], dtype=torch.float64)\n",
      "\n"
     ]
    }
   ],
   "source": [
    "# 通过to_numpy()将pandas的DataFrame转换为numpy的ndarray\n",
    "# 再用torch.tensor()将numpy的ndarray转换为pytorch的tensor\n",
    "import torch\n",
    "X = torch.tensor(inputs.to_numpy(dtype=float))\n",
    "y = torch.tensor(outputs.to_numpy(dtype=float))\n",
    "print(\"X: \\n\", X, end='\\n\\n')\n",
    "print(\"y: \\n\", y, end='\\n\\n')"
   ]
  }
 ],
 "metadata": {
  "kernelspec": {
   "display_name": "llm",
   "language": "python",
   "name": "python3"
  },
  "language_info": {
   "codemirror_mode": {
    "name": "ipython",
    "version": 3
   },
   "file_extension": ".py",
   "mimetype": "text/x-python",
   "name": "python",
   "nbconvert_exporter": "python",
   "pygments_lexer": "ipython3",
   "version": "3.9.18"
  }
 },
 "nbformat": 4,
 "nbformat_minor": 2
}
