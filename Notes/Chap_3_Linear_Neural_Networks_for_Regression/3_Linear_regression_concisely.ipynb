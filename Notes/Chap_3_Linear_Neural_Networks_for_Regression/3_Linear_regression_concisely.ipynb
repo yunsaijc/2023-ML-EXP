{
 "cells": [
  {
   "cell_type": "markdown",
   "metadata": {},
   "source": [
    "# 线性回归的简洁实现"
   ]
  },
  {
   "cell_type": "markdown",
   "metadata": {},
   "source": [
    "生成, 读取数据集"
   ]
  },
  {
   "cell_type": "code",
   "execution_count": 4,
   "metadata": {},
   "outputs": [
    {
     "name": "stdout",
     "output_type": "stream",
     "text": [
      "data_iter[0]: \n",
      " [tensor([[ 0.9434,  1.6079],\n",
      "        [ 0.2866,  1.8188],\n",
      "        [ 0.5851,  0.4682],\n",
      "        [ 0.3595,  0.0982],\n",
      "        [ 0.1539, -0.8714],\n",
      "        [-0.3191,  1.3371],\n",
      "        [-0.6444,  1.0775],\n",
      "        [ 0.4882,  0.4719],\n",
      "        [ 2.1168,  0.8542],\n",
      "        [ 0.2186,  1.5331]]), tensor([[ 0.6240],\n",
      "        [-1.4127],\n",
      "        [ 3.7704],\n",
      "        [ 4.5774],\n",
      "        [ 7.4684],\n",
      "        [-0.9893],\n",
      "        [-0.7535],\n",
      "        [ 3.5779],\n",
      "        [ 5.5264],\n",
      "        [-0.5764]])]\n"
     ]
    }
   ],
   "source": [
    "from LinearRegressionConcise import *\n",
    "\n",
    "# 生成数据集\n",
    "true_w = torch.tensor([2, -3.4])\n",
    "true_b = 4.2\n",
    "features, labels = synthetic_data(true_w, true_b, 1000)\n",
    "\n",
    "# 读取数据集\n",
    "batch_size = 10\n",
    "data_iter = load_array((features, labels), batch_size)\n",
    "print(\"data_iter[0]: \\n\", next(iter(data_iter)))"
   ]
  },
  {
   "cell_type": "markdown",
   "metadata": {},
   "source": [
    "定义并初始化模型"
   ]
  },
  {
   "cell_type": "code",
   "execution_count": 10,
   "metadata": {},
   "outputs": [],
   "source": [
    "net, loss, trainer = init_model()"
   ]
  },
  {
   "cell_type": "markdown",
   "metadata": {},
   "source": [
    "训练并评估模型"
   ]
  },
  {
   "cell_type": "code",
   "execution_count": 11,
   "metadata": {},
   "outputs": [
    {
     "name": "stdout",
     "output_type": "stream",
     "text": [
      "epoch 1, loss 0.000266\n",
      "epoch 2, loss 0.000103\n",
      "epoch 3, loss 0.000104\n",
      "w的估计误差: tensor([-0.0011, -0.0011])\n",
      "b的估计误差: tensor([-0.0004])\n"
     ]
    }
   ],
   "source": [
    "num_epochs = 3\n",
    "train(net, loss, trainer, num_epochs, batch_size, data_iter, features, labels)\n",
    "\n",
    "w = net[0].weight.data\n",
    "print('w的估计误差:', true_w - w.reshape(true_w.shape))\n",
    "b = net[0].bias.data\n",
    "print('b的估计误差:', true_b - b)"
   ]
  }
 ],
 "metadata": {
  "kernelspec": {
   "display_name": "llm",
   "language": "python",
   "name": "python3"
  },
  "language_info": {
   "codemirror_mode": {
    "name": "ipython",
    "version": 3
   },
   "file_extension": ".py",
   "mimetype": "text/x-python",
   "name": "python",
   "nbconvert_exporter": "python",
   "pygments_lexer": "ipython3",
   "version": "3.9.18"
  }
 },
 "nbformat": 4,
 "nbformat_minor": 2
}
