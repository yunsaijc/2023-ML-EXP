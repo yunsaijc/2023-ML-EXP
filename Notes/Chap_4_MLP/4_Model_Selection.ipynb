{
 "cells": [
  {
   "cell_type": "markdown",
   "metadata": {},
   "source": [
    "# 模型选择、欠拟合和过拟合"
   ]
  },
  {
   "cell_type": "markdown",
   "metadata": {},
   "source": [
    "机器学习的目标是学习一种具有泛化能力的模式\n",
    "\n",
    "将模型在训练数据上拟合的比在潜在分布中更接近的现象称为过拟合(overfitting)\n",
    "\n",
    "用于对抗过拟合的技术称为正则化(regularization)"
   ]
  },
  {
   "cell_type": "markdown",
   "metadata": {},
   "source": [
    "## 训练误差和泛化误差"
   ]
  },
  {
   "cell_type": "markdown",
   "metadata": {},
   "source": [
    "训练误差(training error)：模型在训练集上计算得到的误差\n",
    "\n",
    "泛化误差(generalization error)：模型应用在同样从原始样本的分布中抽取的无限多数据样本时，模型误差的期望"
   ]
  },
  {
   "cell_type": "markdown",
   "metadata": {},
   "source": [
    "独立同分布假设(i.i.d.)：假设训练数据和测试数据都是从相同的分布中独立提取的\n",
    "\n",
    "有时轻微地违背独立同分布假设，也可以获得良好的泛化性能；但有时会导致严重的泛化性能下降\n",
    "\n",
    "其他影响模型泛化的因素：\n",
    "    1. 参数量（过大时容易过拟合）\n",
    "    2. 参数采用的值（权重取值范围大时容易过拟合）\n",
    "    3. 训练数据量（数据量小时容易过拟合）"
   ]
  },
  {
   "cell_type": "markdown",
   "metadata": {},
   "source": [
    "## 模型选择"
   ]
  },
  {
   "cell_type": "markdown",
   "metadata": {},
   "source": [
    "模型选择：在评估几个候选模型后选择最终的模型\n",
    "\n",
    "验证集：用于模型选择的数据集。\n",
    "\n",
    "在训练集上训练模型，然后在验证集上评估模型：在确定所有的超参数之前，我们不希望用到测试集。因为如果我们在模型选择过程中使用测试数据， 可能会有过拟合测试数据的风险"
   ]
  },
  {
   "cell_type": "markdown",
   "metadata": {},
   "source": [
    "K折交叉验证：将训练数据分成K个不重叠的子集，然后进行K次模型训练和验证。每次使用一个子集作为验证集，其他子集作为训练集"
   ]
  },
  {
   "cell_type": "markdown",
   "metadata": {},
   "source": [
    "## 欠拟合和过拟合\n",
    "\n",
    "两个因素：\n",
    "\n",
    "1. 模型负责度：复杂的模型（例如高阶多项式）的表达能力更强，但更容易过拟合\n",
    "\n",
    "2. 训练数据量：数据量越大，过拟合的风险越小"
   ]
  }
 ],
 "metadata": {
  "language_info": {
   "name": "python"
  }
 },
 "nbformat": 4,
 "nbformat_minor": 2
}
